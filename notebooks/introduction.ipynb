{
 "cells": [
  {
   "cell_type": "markdown",
   "id": "d41a45b8",
   "metadata": {},
   "source": [
    "# **FUNDAMENTOS Y VISUALIZACIÓN DE SERIES TEMPORALES**"
   ]
  },
  {
   "cell_type": "markdown",
   "id": "34541e13",
   "metadata": {},
   "source": [
    "## **Análisis de Series Temporales: Fundamentos y Visualización**\n",
    "\n",
    "**Contenido:**\n",
    "\n",
    "Bienvenidos a esta introducción al análisis de series temporales. \n",
    "¿Se preguntaron alguna vez cómo se predicen las ventas futuras de un negocio? ¿O cómo funciona el algoritmo que determina cuándo comprar o vender acciones? Detrás de estas predicciones hay un concepto fundamental: las series temporales.\n",
    "\n",
    "Una serie temporal es simplemente una secuencia de datos ordenados en el tiempo. Lo que la hace especial es que, a diferencia de otros tipos de datos, el orden importa muchísimo. La temperatura de hoy está relacionada con la de ayer, y ambas influirán en la de mañana. Este tipo de dependencia temporal es la característica principal de las series temporales.\n",
    "\n",
    "<img src=\"../src/images/Temperatura.png\">\n",
    "<img src=\"../src/images/PrecioAcciones.png\">\n",
    "<img src=\"../src/images/precioBitcoin.png\">\n",
    "Como pueden ver en estos ejemplos, las series temporales están por todas partes: desde la temperatura diaria hasta los precios de acciones o los precios del bitcoin. En todos estos casos, el comportamiento pasado nos da pistas sobre el comportamiento futuro."
   ]
  },
  {
   "cell_type": "markdown",
   "id": "56b4027d",
   "metadata": {},
   "source": [
    "## **Los Cuatro Componentes Fundamentales**\n",
    "\n",
    "<img src=\"../src\\images\\DesSeriesT.png\">\n",
    "\n",
    "- Tendencia (T): Movimiento a largo plazo (creciente/decreciente)\n",
    "- Estacionalidad (S): Patrones que se repiten en intervalos fijos\n",
    "- Ciclo (C): Fluctuaciones no periódicas de mayor duración\n",
    "- Residuo (R): Variaciones aleatorias no explicadas\n",
    "\n",
    "Podemos pensar en una serie temporal como un rompecabezas compuesto por diferentes piezas. Estas piezas son los componentes que vemos en esta descomposición.\n",
    "\n",
    "La tendencia representa el movimiento general a largo plazo. Por ejemplo, en una serie de población veríamos una tendencia creciente, mientras que en el uso de una tecnología obsoleta veríamos una tendencia decreciente.\n",
    "\n",
    "La estacionalidad se refiere a patrones que se repiten con una frecuencia fija. Las ventas de helados siempre aumentan en verano y disminuyen en invierno, creando un patrón anual. El tráfico web suele ser mayor durante el día que por la noche, creando un patrón diario.\n",
    "\n",
    "Los ciclos son similares a la estacionalidad, pero no tienen una duración fija. Los ciclos económicos de expansión y recesión son un ejemplo clásico.\n",
    "\n",
    "Finalmente, después de extraer estos componentes, queda el residuo, que representa las fluctuaciones aleatorias e impredecibles.\n",
    "\n",
    "Esta descomposición nos permite entender mejor qué está pasando en nuestra serie temporal y facilita la predicción.\n"
   ]
  },
  {
   "cell_type": "markdown",
   "id": "7cb61152",
   "metadata": {},
   "source": [
    "## **¿Cómo se Combinan los Componentes?**\n",
    "\n",
    "- Dos modelos principales con ecuaciones simples:\n",
    "    - Aditivo: Y = T + S + C + R\n",
    "    - Multiplicativo: Y = T × S × C × R"
   ]
  },
  {
   "cell_type": "markdown",
   "id": "e0117f60",
   "metadata": {},
   "source": [
    "<img src=\"../src\\images\\AditivaMultiplicativa.png\">"
   ]
  },
  {
   "cell_type": "markdown",
   "id": "724edda8",
   "metadata": {},
   "source": [
    "**Existen dos formas principales de combinar estos componentes:**\n",
    "\n",
    "De forma aditiva o multiplicativa.\n",
    "\n",
    "En el modelo aditivo, simplemente sumamos los componentes. Es apropiado cuando la magnitud de las fluctuaciones estacionales es constante a lo largo del tiempo. \n",
    "\n",
    "En el modelo multiplicativo, los componentes se multiplican. Es más adecuado cuando las fluctuaciones aumentan proporcionalmente al nivel de la serie. \n",
    "\n",
    "La elección del modelo adecuado afecta significativamente a la calidad de nuestras predicciones."
   ]
  },
  {
   "cell_type": "markdown",
   "id": "6786a1dd",
   "metadata": {},
   "source": [
    "## **Visualización: La Herramienta Fundamental**\n",
    "\n",
    "El primer paso en cualquier análisis de series temporales es visualizar los datos. Parece simple, pero es increíblemente poderoso. Un buen gráfico nos permite identificar visualmente los componentes que acabamos de estudiar.\n",
    "\n",
    "<img src=\"../src\\images\\TimeSeries.jpg\">\n",
    "\n",
    "En este ejemplo, podemos ver la tendencia general marcada en rojo. Observad cómo hay un patrón que se repite anualmente, marcado con las áreas sombreadas, que corresponde a la estacionalidad. También podemos detectar algunos valores atípicos, como este pico marcado aquí, que podrían representar eventos especiales o anomalías.\n",
    "\n",
    "<img src=\"../src\\images\\serieAnomalias.jpg\">\n"
   ]
  },
  {
   "cell_type": "markdown",
   "id": "15ca8147",
   "metadata": {},
   "source": [
    "## **Autocorrelación: Midiendo la Memoria de los Datos**\n",
    "\n",
    "<img src=\"../src\\images\\ACF.jpg\">\n",
    "\n",
    "Este gráfico se llama Función de Autocorrelación (ACF) y muestra la correlación de nuestra serie con versiones retrasadas de sí misma. Cada barra representa un periodo de retraso. Por ejemplo, la primera barra muestra la correlación con un retraso de 1 periodo (como comparar hoy con ayer), la segunda con 2 periodos, y así sucesivamente.\n",
    "Cuando vemos picos significativos en ciertos retrasos, nos da información valiosa. Por ejemplo, en datos mensuales, un pico en el retraso 12 indicaría una fuerte estacionalidad anual, ya que muestra que cada mes está correlacionado con el mismo mes del año anterior.\n",
    "En este ejemplo, podemos ver que hay una fuerte correlación a 1 día (la temperatura de hoy se parece a la de ayer) y a 7 días (la temperatura de hoy se parece a la del mismo día de la semana pasada). Esta información es crucial para construir modelos predictivos, como veremos en los siguientes bloques."
   ]
  },
  {
   "cell_type": "markdown",
   "id": "e535af79",
   "metadata": {},
   "source": [
    "\n",
    "## **Estacionariedad: El Concepto Clave**\n",
    "\n",
    "<img src=\"../src\\images\\noEstacionariaEstacionaria.jpg\">\n",
    "\n",
    "Un concepto crucial en el análisis de series temporales es la estacionariedad. Una serie es estacionaria cuando su media, varianza y autocorrelación no cambian con el tiempo. La mayoría de los modelos estadísticos que veremos en el siguiente bloque requieren que los datos sean estacionarios.\n",
    "Existen varios métodos para lograr la estacionariedad. El más común es la diferenciación, que consiste en restar a cada valor el anterior, eliminando así la tendencia. También podemos aplicar transformaciones logarítmicas para estabilizar la varianza, o directamente eliminar componentes de tendencia y estacionalidad.\n",
    "La estacionariedad es fundamental porque permite que las relaciones que descubramos en nuestros datos sean válidas para cualquier periodo de tiempo, lo que es esencial para hacer predicciones fiables."
   ]
  },
  {
   "cell_type": "markdown",
   "id": "f1c528d6",
   "metadata": {},
   "source": [
    "## **Preparando los Datos para el Análisis**\n",
    "\n",
    "Antes de aplicar cualquier modelo, necesitamos preparar nuestros datos. Este es un flujo de trabajo típico que podéis seguir.\n",
    "\n",
    "- Datos originales → Tratamiento de valores faltantes → Ajuste de frecuencia → ¿Es estacionaria? → Transformación → Modelado\n",
    "\n",
    "El primer desafío suelen ser los valores faltantes. Imaginad que tenemos datos de temperatura diaria pero un día el sensor falló. Podemos usar diferentes técnicas para estimar ese valor: interpolación lineal (una línea recta entre los puntos conocidos), forward fill (usar el último valor conocido), o métodos más sofisticados.\n",
    "Después, podríamos necesitar ajustar la frecuencia. Por ejemplo, convertir datos horarios en diarios, o diarios en semanales, según nuestras necesidades de análisis."
   ]
  },
  {
   "cell_type": "markdown",
   "id": "e54d324f",
   "metadata": {},
   "source": [
    "## **Resumen**\n",
    "\n",
    "Recordemos los conceptos fundamentales que hemos aprendido:\n",
    "\n",
    "- Las series temporales contienen dependencia temporal\n",
    "\n",
    "- Pueden descomponerse en componentes interpretables\n",
    "\n",
    "- La visualización es una herramienta poderosa de análisis\n",
    "\n",
    "- La estacionariedad es fundamental para la mayoría de modelos\n"
   ]
  }
 ],
 "metadata": {
  "kernelspec": {
   "display_name": ".venv",
   "language": "python",
   "name": "python3"
  },
  "language_info": {
   "name": "python",
   "version": "3.13.2"
  }
 },
 "nbformat": 4,
 "nbformat_minor": 5
}
