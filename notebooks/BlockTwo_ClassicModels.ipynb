{
 "cells": [
  {
   "cell_type": "markdown",
   "metadata": {},
   "source": [
    "# **BLOQUE 2: MODELOS CLÁSICOS Y TÉCNICAS ESTADÍSTICAS**"
   ]
  }
 ],
 "metadata": {
  "language_info": {
   "name": "python"
  }
 },
 "nbformat": 4,
 "nbformat_minor": 2
}
